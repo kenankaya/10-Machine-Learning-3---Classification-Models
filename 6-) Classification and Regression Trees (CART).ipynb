{
 "cells": [
  {
   "cell_type": "markdown",
   "metadata": {},
   "source": [
    "# Classification and Regression Trees (CART)"
   ]
  },
  {
   "cell_type": "markdown",
   "metadata": {},
   "source": [
    "* The purpose of this model is to transform the complex structures in the data set into simple decision structures.\n",
    "\n",
    "\n",
    "* Heterogeneous data sets are divided into homogeneous subgroups according to a specified target variable."
   ]
  },
  {
   "cell_type": "markdown",
   "metadata": {},
   "source": [
    "![alt text](https://1.bp.blogspot.com/-z7ukEqUcfvc/UPNMA9PZRKI/AAAAAAAAA2c/FitWl1yEEC0/s1600/titanic.PNG)"
   ]
  },
  {
   "cell_type": "markdown",
   "metadata": {},
   "source": [
    "## 1-)MODEL"
   ]
  },
  {
   "cell_type": "code",
   "execution_count": 1,
   "metadata": {},
   "outputs": [],
   "source": [
    "import numpy as np\n",
    "import pandas as pd \n",
    "from sklearn.model_selection import train_test_split"
   ]
  },
  {
   "cell_type": "code",
   "execution_count": 2,
   "metadata": {},
   "outputs": [],
   "source": [
    "diabetes = pd.read_csv(\"diabetes.csv\")\n",
    "df = diabetes.copy()\n",
    "df = df.dropna()\n",
    "y = df[\"Outcome\"]\n",
    "X = df.drop(['Outcome'], axis=1)\n",
    "X_train, X_test, y_train, y_test = train_test_split(X, y, \n",
    "                                                    test_size=0.30, \n",
    "                                                    random_state=42)\n",
    "\n"
   ]
  },
  {
   "cell_type": "code",
   "execution_count": 3,
   "metadata": {},
   "outputs": [],
   "source": [
    "from sklearn.tree import DecisionTreeClassifier"
   ]
  },
  {
   "cell_type": "code",
   "execution_count": 5,
   "metadata": {},
   "outputs": [
    {
     "data": {
      "text/plain": [
       "DecisionTreeClassifier()"
      ]
     },
     "execution_count": 5,
     "metadata": {},
     "output_type": "execute_result"
    }
   ],
   "source": [
    "cart = DecisionTreeClassifier()\n",
    "cart_model = cart.fit(X_train, y_train)\n",
    "cart_model"
   ]
  },
  {
   "cell_type": "code",
   "execution_count": 6,
   "metadata": {},
   "outputs": [],
   "source": [
    "# !pip install skompiler"
   ]
  },
  {
   "cell_type": "code",
   "execution_count": 7,
   "metadata": {},
   "outputs": [],
   "source": [
    "from skompiler import skompile"
   ]
  },
  {
   "cell_type": "code",
   "execution_count": 9,
   "metadata": {},
   "outputs": [],
   "source": [
    "from warnings import filterwarnings\n",
    "filterwarnings('ignore')"
   ]
  },
  {
   "cell_type": "code",
   "execution_count": 10,
   "metadata": {},
   "outputs": [
    {
     "name": "stdout",
     "output_type": "stream",
     "text": [
      "((((((0 if x[6] <= 0.671999990940094 else 1 if x[6] <= 0.6974999904632568 else\n",
      "    0) if x[5] <= 31.40000057220459 else ((0 if x[3] <= 40.5 else 1) if x[1\n",
      "    ] <= 111.5 else ((1 if x[1] <= 123.0 else 0) if x[2] <= 65.0 else 0) if\n",
      "    x[2] <= 72.0 else 1) if x[4] <= 9.0 else (0 if x[6] <= \n",
      "    0.6395000219345093 else 1 if x[6] <= 0.6759999990463257 else 0) if x[0] <=\n",
      "    4.5 else 1 if x[2] <= 67.0 else 0) if x[5] <= 49.10000038146973 else 1) if\n",
      "    x[1] <= 127.5 else 1 if x[2] <= 56.0 else (0 if x[7] <= 27.5 else 0 if \n",
      "    x[3] <= 14.5 else 1) if x[5] <= 30.300000190734863 else 1 if x[5] <= \n",
      "    32.000000953674316 else ((0 if x[5] <= 33.75 else 1) if x[0] <= 0.5 else\n",
      "    1 if x[5] <= 32.45000076293945 else 0) if x[2] <= 85.0 else 1) if x[7] <=\n",
      "    28.5 else (1 if x[7] <= 29.5 else (0 if x[1] <= 133.0 else (1 if x[0] <=\n",
      "    6.5 else 0) if x[1] <= 135.0 else 0) if x[2] <= 94.0 else 1 if x[2] <= \n",
      "    97.0 else 0) if x[5] <= 26.949999809265137 else (1 if x[1] <= 28.5 else\n",
      "    0 if x[0] <= 9.5 else 0 if x[3] <= 27.0 else 1 if x[5] <= \n",
      "    35.10000038146973 else 0) if x[1] <= 94.5 else ((((0 if x[6] <= \n",
      "    0.24950000643730164 else 1 if x[4] <= 115.5 else 0) if x[5] <= \n",
      "    28.34999942779541 else 1 if x[5] <= 31.15000057220459 else 1 if x[2] <=\n",
      "    67.0 else 0 if x[7] <= 36.5 else 0 if x[2] <= 71.0 else (1 if x[2] <= \n",
      "    77.0 else 0) if x[6] <= 0.21000000089406967 else 1) if x[3] <= 26.5 else\n",
      "    ((1 if x[4] <= 41.5 else 0 if x[1] <= 112.0 else 1) if x[2] <= 67.0 else\n",
      "    0 if x[2] <= 80.0 else 0 if x[4] <= 87.5 else 1) if x[1] <= 127.5 else \n",
      "    (1 if x[1] <= 140.0 else 0) if x[6] <= 0.3110000044107437 else 1) if x[\n",
      "    2] <= 83.0 else ((0 if x[3] <= 39.5 else 1 if x[6] <= \n",
      "    0.3385000079870224 else 0) if x[5] <= 41.19999885559082 else 1) if x[4] <=\n",
      "    124.0 else 0 if x[3] <= 19.5 else 1) if x[6] <= 0.527999997138977 else \n",
      "    ((((1 if x[6] <= 0.7639999985694885 else 0) if x[1] <= 108.5 else 1) if\n",
      "    x[1] <= 132.0 else 0) if x[5] <= 29.09999942779541 else 0 if x[7] <= \n",
      "    50.0 else 1) if x[5] <= 31.600000381469727 else ((1 if x[2] <= 87.0 else\n",
      "    1 if x[5] <= 36.64999961853027 else 0) if x[3] <= 54.5 else 0) if x[6] <=\n",
      "    1.1489999890327454 else 1 if x[7] <= 36.0 else 0) if x[1] <= 154.5 else\n",
      "    (1 if x[5] <= 25.350000381469727 else 0 if x[6] <= 0.3684999942779541 else\n",
      "    1 if x[1] <= 179.5 else 0 if x[6] <= 0.9229999780654907 else 1) if x[5] <=\n",
      "    28.700000762939453 else (((0 if x[6] <= 0.14100000262260437 else 0 if x\n",
      "    [7] <= 24.5 else 1) if x[1] <= 164.5 else 0) if x[1] <= 165.5 else ((1 if\n",
      "    x[0] <= 1.5 else 0) if x[2] <= 67.0 else 1) if x[7] <= 26.5 else 1) if \n",
      "    x[6] <= 1.4275000095367432 else 1 if x[7] <= 28.0 else 0)\n",
      "\n"
     ]
    }
   ],
   "source": [
    "print(skompile(cart_model.predict).to(\"python/code\"))"
   ]
  },
  {
   "cell_type": "markdown",
   "metadata": {},
   "source": [
    "## 2-)Prediction"
   ]
  },
  {
   "cell_type": "code",
   "execution_count": 11,
   "metadata": {},
   "outputs": [
    {
     "data": {
      "text/plain": [
       "array([0, 1, 0, 0, 0, 0, 0, 1, 1, 1], dtype=int64)"
      ]
     },
     "execution_count": 11,
     "metadata": {},
     "output_type": "execute_result"
    }
   ],
   "source": [
    "y_pred = cart_model.predict(X_test)\n",
    "y_pred[0:10]"
   ]
  },
  {
   "cell_type": "code",
   "execution_count": 13,
   "metadata": {},
   "outputs": [],
   "source": [
    "from sklearn.metrics import confusion_matrix, accuracy_score, classification_report"
   ]
  },
  {
   "cell_type": "code",
   "execution_count": 14,
   "metadata": {},
   "outputs": [
    {
     "data": {
      "text/plain": [
       "0.7056277056277056"
      ]
     },
     "execution_count": 14,
     "metadata": {},
     "output_type": "execute_result"
    }
   ],
   "source": [
    "accuracy_score(y_test, y_pred) # before model tuning"
   ]
  },
  {
   "cell_type": "code",
   "execution_count": 15,
   "metadata": {},
   "outputs": [
    {
     "data": {
      "text/plain": [
       "array([[111,  40],\n",
       "       [ 28,  52]], dtype=int64)"
      ]
     },
     "execution_count": 15,
     "metadata": {},
     "output_type": "execute_result"
    }
   ],
   "source": [
    "confusion_matrix(y_test, y_pred) # before model tuning"
   ]
  },
  {
   "cell_type": "code",
   "execution_count": 16,
   "metadata": {},
   "outputs": [
    {
     "name": "stdout",
     "output_type": "stream",
     "text": [
      "              precision    recall  f1-score   support\n",
      "\n",
      "           0       0.80      0.74      0.77       151\n",
      "           1       0.57      0.65      0.60        80\n",
      "\n",
      "    accuracy                           0.71       231\n",
      "   macro avg       0.68      0.69      0.69       231\n",
      "weighted avg       0.72      0.71      0.71       231\n",
      "\n"
     ]
    }
   ],
   "source": [
    "print(classification_report(y_test, y_pred)) # before model tuning"
   ]
  },
  {
   "cell_type": "markdown",
   "metadata": {},
   "source": [
    "## 3-) Model tuning"
   ]
  },
  {
   "cell_type": "markdown",
   "metadata": {},
   "source": [
    "* In this section, we will try to determine the optimum **max_depth, min_samples_split**  with the GridSearchCV method.\n",
    "\n",
    "\n",
    "* GridSearchCV: Grid Search Cross Validation Methode\n",
    "\n",
    "\n",
    "\n",
    "* Then , we will create the most optimum model by using optimum **max_depth, min_samples_split** .\n",
    "\n",
    "\n",
    "\n",
    "\n",
    "\n",
    "* **max_depth, min_samples_split** are the hyperparameters that we will determine according to ourselves and we want it to be the most optimum.\n",
    "\n",
    "\n",
    "\n",
    "* But instead of relying on our own feeling and sense in order to find the  optimum value of these hyperparameters   , we will find the optimum value of these hyperparameters   by using the gridsearch method.\n",
    "\n",
    "\n",
    "* **max_depth**  is a hyperparameter that must be tuned to control the branches of the tree.\n",
    "\n",
    "\n",
    "* **min_samples_split**  is the hypermaremeter that gives the minimum number of samples required for branching."
   ]
  },
  {
   "cell_type": "code",
   "execution_count": 21,
   "metadata": {},
   "outputs": [
    {
     "data": {
      "text/plain": [
       "2"
      ]
     },
     "execution_count": 21,
     "metadata": {},
     "output_type": "execute_result"
    }
   ],
   "source": [
    "cart_model.min_samples_split #default value of min_samples_split"
   ]
  },
  {
   "cell_type": "code",
   "execution_count": 22,
   "metadata": {},
   "outputs": [
    {
     "name": "stdout",
     "output_type": "stream",
     "text": [
      "None\n"
     ]
    }
   ],
   "source": [
    "print(cart_model.max_depth) #default value of max_depth"
   ]
  },
  {
   "cell_type": "code",
   "execution_count": 24,
   "metadata": {},
   "outputs": [],
   "source": [
    "from sklearn.model_selection import GridSearchCV"
   ]
  },
  {
   "cell_type": "code",
   "execution_count": 25,
   "metadata": {},
   "outputs": [],
   "source": [
    "cart_grid = {\"max_depth\": range(1,10),\n",
    "            \"min_samples_split\" : list(range(2,50)) }"
   ]
  },
  {
   "cell_type": "code",
   "execution_count": 28,
   "metadata": {},
   "outputs": [],
   "source": [
    "cart = DecisionTreeClassifier()\n",
    "cart_cv = GridSearchCV(cart, \n",
    "                       cart_grid, \n",
    "                       cv = 10, \n",
    "                       n_jobs = -1, verbose = 2)"
   ]
  },
  {
   "cell_type": "code",
   "execution_count": 29,
   "metadata": {},
   "outputs": [
    {
     "name": "stdout",
     "output_type": "stream",
     "text": [
      "Fitting 10 folds for each of 432 candidates, totalling 4320 fits\n"
     ]
    },
    {
     "name": "stderr",
     "output_type": "stream",
     "text": [
      "[Parallel(n_jobs=-1)]: Using backend LokyBackend with 4 concurrent workers.\n",
      "[Parallel(n_jobs=-1)]: Done  38 tasks      | elapsed:    1.9s\n",
      "[Parallel(n_jobs=-1)]: Done 1772 tasks      | elapsed:    6.8s\n",
      "[Parallel(n_jobs=-1)]: Done 4320 out of 4320 | elapsed:   14.9s finished\n"
     ]
    }
   ],
   "source": [
    "cart_cv_model = cart_cv.fit(X_train, y_train)"
   ]
  },
  {
   "cell_type": "code",
   "execution_count": 30,
   "metadata": {},
   "outputs": [
    {
     "data": {
      "text/plain": [
       "{'max_depth': 5, 'min_samples_split': 19}"
      ]
     },
     "execution_count": 30,
     "metadata": {},
     "output_type": "execute_result"
    }
   ],
   "source": [
    "cart_cv_model.best_params_# optimum value of hypermaremeters"
   ]
  },
  {
   "cell_type": "markdown",
   "metadata": {},
   "source": [
    "### 3.1-) Tuned Model"
   ]
  },
  {
   "cell_type": "code",
   "execution_count": 33,
   "metadata": {},
   "outputs": [],
   "source": [
    "cart =DecisionTreeClassifier(max_depth = 5, min_samples_split = 19)\n",
    "cart_tuned = cart.fit(X_train, y_train)"
   ]
  },
  {
   "cell_type": "code",
   "execution_count": 34,
   "metadata": {},
   "outputs": [
    {
     "data": {
      "text/plain": [
       "array([0, 0, 0, 0, 0, 0, 0, 1, 0, 0], dtype=int64)"
      ]
     },
     "execution_count": 34,
     "metadata": {},
     "output_type": "execute_result"
    }
   ],
   "source": [
    "y_pred1 = cart_tuned.predict(X_test)\n",
    "y_pred1[0:10]"
   ]
  },
  {
   "cell_type": "code",
   "execution_count": 35,
   "metadata": {},
   "outputs": [
    {
     "data": {
      "text/plain": [
       "0.7532467532467533"
      ]
     },
     "execution_count": 35,
     "metadata": {},
     "output_type": "execute_result"
    }
   ],
   "source": [
    "accuracy_score(y_test, y_pred1)# after model tuning"
   ]
  },
  {
   "cell_type": "code",
   "execution_count": 36,
   "metadata": {},
   "outputs": [
    {
     "data": {
      "text/plain": [
       "array([[128,  23],\n",
       "       [ 34,  46]], dtype=int64)"
      ]
     },
     "execution_count": 36,
     "metadata": {},
     "output_type": "execute_result"
    }
   ],
   "source": [
    "confusion_matrix(y_test, y_pred1)# after model tuning"
   ]
  },
  {
   "cell_type": "code",
   "execution_count": 37,
   "metadata": {},
   "outputs": [
    {
     "name": "stdout",
     "output_type": "stream",
     "text": [
      "              precision    recall  f1-score   support\n",
      "\n",
      "           0       0.79      0.85      0.82       151\n",
      "           1       0.67      0.57      0.62        80\n",
      "\n",
      "    accuracy                           0.75       231\n",
      "   macro avg       0.73      0.71      0.72       231\n",
      "weighted avg       0.75      0.75      0.75       231\n",
      "\n"
     ]
    }
   ],
   "source": [
    "print(classification_report(y_test, y_pred1))# after model tuning"
   ]
  }
 ],
 "metadata": {
  "kernelspec": {
   "display_name": "Python 3",
   "language": "python",
   "name": "python3"
  },
  "language_info": {
   "codemirror_mode": {
    "name": "ipython",
    "version": 3
   },
   "file_extension": ".py",
   "mimetype": "text/x-python",
   "name": "python",
   "nbconvert_exporter": "python",
   "pygments_lexer": "ipython3",
   "version": "3.7.4"
  }
 },
 "nbformat": 4,
 "nbformat_minor": 4
}
